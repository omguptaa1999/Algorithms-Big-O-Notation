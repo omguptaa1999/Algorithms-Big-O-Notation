{
 "cells": [
  {
   "cell_type": "markdown",
   "id": "9b157a1c",
   "metadata": {},
   "source": [
    "### Algorithms Coding "
   ]
  },
  {
   "cell_type": "markdown",
   "id": "fe87c30a",
   "metadata": {},
   "source": [
    "#### CODE 1"
   ]
  },
  {
   "cell_type": "code",
   "execution_count": 22,
   "id": "07f1fcbe",
   "metadata": {},
   "outputs": [],
   "source": [
    "def sum1(n):\n",
    "    return (n*(n+1))//2"
   ]
  },
  {
   "cell_type": "code",
   "execution_count": 23,
   "id": "ad2d35d0",
   "metadata": {},
   "outputs": [
    {
     "data": {
      "text/plain": [
       "5050"
      ]
     },
     "execution_count": 23,
     "metadata": {},
     "output_type": "execute_result"
    }
   ],
   "source": [
    "sum1(100)"
   ]
  },
  {
   "cell_type": "code",
   "execution_count": 24,
   "id": "b46b2d4d",
   "metadata": {},
   "outputs": [
    {
     "name": "stdout",
     "output_type": "stream",
     "text": [
      "101 ns ± 3.36 ns per loop (mean ± std. dev. of 7 runs, 10000000 loops each)\n"
     ]
    }
   ],
   "source": [
    "%timeit sum1(100)"
   ]
  },
  {
   "cell_type": "markdown",
   "id": "149e66eb",
   "metadata": {},
   "source": [
    "### O(1) ---> Constant"
   ]
  },
  {
   "cell_type": "code",
   "execution_count": 26,
   "id": "567d2c2a",
   "metadata": {},
   "outputs": [],
   "source": [
    "def func_constant(values):\n",
    "    print (values[0])"
   ]
  },
  {
   "cell_type": "code",
   "execution_count": 27,
   "id": "5bcd7a87",
   "metadata": {},
   "outputs": [
    {
     "name": "stdout",
     "output_type": "stream",
     "text": [
      "1\n"
     ]
    }
   ],
   "source": [
    "lst = [1,2,3]\n",
    "func_constant(lst)"
   ]
  },
  {
   "cell_type": "markdown",
   "id": "af58a398",
   "metadata": {},
   "source": [
    "### O(n) ---> Linear "
   ]
  },
  {
   "cell_type": "code",
   "execution_count": 29,
   "id": "527fe902",
   "metadata": {},
   "outputs": [],
   "source": [
    "def func_linear(lst):\n",
    "    for val in lst:\n",
    "        print (val)"
   ]
  },
  {
   "cell_type": "code",
   "execution_count": 30,
   "id": "6646ab29",
   "metadata": {},
   "outputs": [
    {
     "name": "stdout",
     "output_type": "stream",
     "text": [
      "1\n",
      "2\n",
      "3\n"
     ]
    }
   ],
   "source": [
    "func_linear(lst)"
   ]
  },
  {
   "cell_type": "markdown",
   "id": "e9fda9eb",
   "metadata": {},
   "source": [
    "### O(n^2) ---> Quadratic"
   ]
  },
  {
   "cell_type": "code",
   "execution_count": 31,
   "id": "148c7916",
   "metadata": {},
   "outputs": [],
   "source": [
    "def func_quadratic(lst):\n",
    "    for item_a in lst:\n",
    "        for item_b in lst:\n",
    "            print(item_a, item_b)"
   ]
  },
  {
   "cell_type": "code",
   "execution_count": 32,
   "id": "4bc6bb81",
   "metadata": {},
   "outputs": [
    {
     "name": "stdout",
     "output_type": "stream",
     "text": [
      "1 1\n",
      "1 2\n",
      "1 3\n",
      "2 1\n",
      "2 2\n",
      "2 3\n",
      "3 1\n",
      "3 2\n",
      "3 3\n"
     ]
    }
   ],
   "source": [
    "func_quadratic(lst)"
   ]
  },
  {
   "cell_type": "code",
   "execution_count": 42,
   "id": "c6b5d3e8",
   "metadata": {},
   "outputs": [],
   "source": [
    "def comp(lst):\n",
    "    print (lst[0])\n",
    "    \n",
    "    midpoint = len(lst)//2\n",
    "    for val in lst[:midpoint]:\n",
    "        print(val)\n",
    "    \n",
    "    for x in range(10):\n",
    "        print(\"Hello World\")"
   ]
  },
  {
   "cell_type": "code",
   "execution_count": 43,
   "id": "d5c95d63",
   "metadata": {},
   "outputs": [
    {
     "name": "stdout",
     "output_type": "stream",
     "text": [
      "1\n",
      "1\n",
      "2\n",
      "3\n",
      "4\n",
      "5\n",
      "6\n",
      "7\n",
      "Hello World\n",
      "Hello World\n",
      "Hello World\n",
      "Hello World\n",
      "Hello World\n",
      "Hello World\n",
      "Hello World\n",
      "Hello World\n",
      "Hello World\n",
      "Hello World\n"
     ]
    }
   ],
   "source": [
    "lst = [1,2,3,4,5,6,7,8,9,10,11,12,13,14,15]\n",
    "comp(lst)"
   ]
  },
  {
   "cell_type": "code",
   "execution_count": 44,
   "id": "650c3ee4",
   "metadata": {},
   "outputs": [],
   "source": [
    "def matcher(lst, match):\n",
    "    for item in lst:\n",
    "        if item == match:\n",
    "            return True\n",
    "    return False"
   ]
  },
  {
   "cell_type": "code",
   "execution_count": 45,
   "id": "7f32f2c7",
   "metadata": {},
   "outputs": [
    {
     "data": {
      "text/plain": [
       "True"
      ]
     },
     "execution_count": 45,
     "metadata": {},
     "output_type": "execute_result"
    }
   ],
   "source": [
    "matcher(lst, 1)"
   ]
  },
  {
   "cell_type": "code",
   "execution_count": 46,
   "id": "23710f59",
   "metadata": {},
   "outputs": [
    {
     "data": {
      "text/plain": [
       "True"
      ]
     },
     "execution_count": 46,
     "metadata": {},
     "output_type": "execute_result"
    }
   ],
   "source": [
    "matcher(lst, 11)"
   ]
  },
  {
   "cell_type": "code",
   "execution_count": 47,
   "id": "d044977a",
   "metadata": {},
   "outputs": [
    {
     "data": {
      "text/plain": [
       "False"
      ]
     },
     "execution_count": 47,
     "metadata": {},
     "output_type": "execute_result"
    }
   ],
   "source": [
    "matcher(lst, 20)"
   ]
  },
  {
   "cell_type": "code",
   "execution_count": 48,
   "id": "1ce9d25a",
   "metadata": {},
   "outputs": [],
   "source": [
    "def create_list(n):\n",
    "    new_list = []\n",
    "    for num in range(n):\n",
    "        new_list.append('new')\n",
    "    return new_list"
   ]
  },
  {
   "cell_type": "code",
   "execution_count": 55,
   "id": "fa3cc573",
   "metadata": {},
   "outputs": [
    {
     "data": {
      "text/plain": [
       "['new', 'new', 'new', 'new', 'new', 'new', 'new', 'new', 'new', 'new', 'new']"
      ]
     },
     "execution_count": 55,
     "metadata": {},
     "output_type": "execute_result"
    }
   ],
   "source": [
    "create_list(11)"
   ]
  },
  {
   "cell_type": "code",
   "execution_count": 56,
   "id": "3753c533",
   "metadata": {},
   "outputs": [
    {
     "name": "stdout",
     "output_type": "stream",
     "text": [
      "622 ns ± 4.96 ns per loop (mean ± std. dev. of 7 runs, 1000000 loops each)\n"
     ]
    }
   ],
   "source": [
    "%timeit create_list(11)"
   ]
  },
  {
   "cell_type": "code",
   "execution_count": 2,
   "id": "5a8ff29e",
   "metadata": {},
   "outputs": [],
   "source": [
    "def printer(n):\n",
    "    for x in range(10):\n",
    "        print(\"Hello World\")"
   ]
  },
  {
   "cell_type": "code",
   "execution_count": 3,
   "id": "f0ef436a",
   "metadata": {},
   "outputs": [
    {
     "name": "stdout",
     "output_type": "stream",
     "text": [
      "Hello World\n",
      "Hello World\n",
      "Hello World\n",
      "Hello World\n",
      "Hello World\n",
      "Hello World\n",
      "Hello World\n",
      "Hello World\n",
      "Hello World\n",
      "Hello World\n"
     ]
    }
   ],
   "source": [
    "printer(10)"
   ]
  },
  {
   "cell_type": "code",
   "execution_count": 6,
   "id": "376d0ff1",
   "metadata": {},
   "outputs": [
    {
     "data": {
      "text/plain": [
       "Text(0.5, 0, 'n')"
      ]
     },
     "execution_count": 6,
     "metadata": {},
     "output_type": "execute_result"
    },
    {
     "data": {
      "image/png": "[encoded data removed]",
      "text/plain": [
       "<Figure size 864x720 with 1 Axes>"
      ]
     },
     "metadata": {
      "needs_background": "light"
     },
     "output_type": "display_data"
    }
   ],
   "source": [
    "from math import log\n",
    "import numpy as np\n",
    "import matplotlib.pyplot as plt\n",
    "%matplotlib inline\n",
    "plt.style.use('bmh')\n",
    "\n",
    "n = np.linspace(1,10,100)\n",
    "labels = ['Constant', 'Logarithmic', 'Linear', 'Log Linear', 'Quadratic', 'Cubic', 'Exponential']\n",
    "big_o = [np.ones(n.shape), np.log(n), n, n*np.log(n), n**2, n**3, 2**n]\n",
    "\n",
    "plt.figure(figsize = (12, 10))\n",
    "plt.ylim(0, 50)\n",
    "\n",
    "for i in range(len(big_o)):\n",
    "    plt.plot(n, big_o[i], label = labels[i])\n",
    "    \n",
    "plt.legend(loc = 0)\n",
    "plt.ylabel('Relative Runtime')\n",
    "plt.xlabel('n')"
   ]
  },
  {
   "cell_type": "code",
   "execution_count": 8,
   "id": "30235e29",
   "metadata": {},
   "outputs": [],
   "source": [
    "def system1():\n",
    "    l = []\n",
    "    for i in range(10000):\n",
    "        l = l + [i]\n",
    "\n",
    "def system2():\n",
    "    l = []\n",
    "    for i in range(10000):\n",
    "        l.append(i)\n",
    "        \n",
    "def system3():\n",
    "    l = [n for i in range(10000)]\n",
    "    \n",
    "def system4():\n",
    "    l = list(range(10000))"
   ]
  },
  {
   "cell_type": "code",
   "execution_count": 10,
   "id": "39ca1fda",
   "metadata": {},
   "outputs": [
    {
     "name": "stdout",
     "output_type": "stream",
     "text": [
      "230 ms ± 5.61 ms per loop (mean ± std. dev. of 7 runs, 1 loop each)\n",
      "910 µs ± 10.4 µs per loop (mean ± std. dev. of 7 runs, 1000 loops each)\n",
      "578 µs ± 34.8 µs per loop (mean ± std. dev. of 7 runs, 1000 loops each)\n",
      "182 µs ± 830 ns per loop (mean ± std. dev. of 7 runs, 10000 loops each)\n"
     ]
    }
   ],
   "source": [
    "%timeit system1()\n",
    "%timeit system2()\n",
    "%timeit system3()\n",
    "%timeit system4()"
   ]
  }
 ],
 "metadata": {
  "kernelspec": {
   "display_name": "Python 3 (ipykernel)",
   "language": "python",
   "name": "python3"
  },
  "language_info": {
   "codemirror_mode": {
    "name": "ipython",
    "version": 3
   },
   "file_extension": ".py",
   "mimetype": "text/x-python",
   "name": "python",
   "nbconvert_exporter": "python",
   "pygments_lexer": "ipython3",
   "version": "3.9.5"
  }
 },
 "nbformat": 4,
 "nbformat_minor": 5
}
